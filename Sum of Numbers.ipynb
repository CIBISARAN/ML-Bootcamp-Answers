{
 "cells": [
  {
   "cell_type": "markdown",
   "id": "0c18b973-9226-4fe9-9248-92b31daff168",
   "metadata": {},
   "source": [
    "### Hello Welcome to Code Snippet!"
   ]
  },
  {
   "cell_type": "code",
   "execution_count": 1,
   "id": "438f194b-9259-49e5-8994-f10d9d16afa9",
   "metadata": {},
   "outputs": [
    {
     "name": "stdout",
     "output_type": "stream",
     "text": [
      "Sum Operation :\n"
     ]
    }
   ],
   "source": [
    "print(\"This Program calculates the sum of two numbers\")\n",
    "x=int(input(\"Enter your First Number : \"))\n",
    "y=int(input(\"Enter your Second Number : \"))\n"
   ]
  },
  {
   "cell_type": "code",
   "execution_count": null,
   "id": "9f840987-b349-4bcc-a570-e9d5746b8cd8",
   "metadata": {},
   "outputs": [],
   "source": []
  }
 ],
 "metadata": {
  "kernelspec": {
   "display_name": "Python 3 (ipykernel)",
   "language": "python",
   "name": "python3"
  },
  "language_info": {
   "codemirror_mode": {
    "name": "ipython",
    "version": 3
   },
   "file_extension": ".py",
   "mimetype": "text/x-python",
   "name": "python",
   "nbconvert_exporter": "python",
   "pygments_lexer": "ipython3",
   "version": "3.10.6"
  }
 },
 "nbformat": 4,
 "nbformat_minor": 5
}
