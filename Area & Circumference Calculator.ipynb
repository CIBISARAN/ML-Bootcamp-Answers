{
 "cells": [
  {
   "cell_type": "markdown",
   "id": "1e4fafe7-7215-4388-a42a-95cf1dd62f2f",
   "metadata": {},
   "source": [
    "### Hello Welcome to Code Snippet!"
   ]
  },
  {
   "cell_type": "code",
   "execution_count": null,
   "id": "fa265b90-3d20-4913-bd49-f8f740a0b19c",
   "metadata": {},
   "outputs": [
    {
     "name": "stdout",
     "output_type": "stream",
     "text": [
      "This Program calculates the Area and Circumference of your Circle\n"
     ]
    },
    {
     "name": "stdin",
     "output_type": "stream",
     "text": [
      "Enter the Radius :  5\n"
     ]
    }
   ],
   "source": [
    "import math\n",
    "print(\"This Program calculates the Area and Circumference of your Circle\")\n",
    "r=int(input(\"Enter the Radius : \"))\n",
    "un=input(\"Enter Unit : \")\n",
    "Ar = (math.pi*r*r)\n",
    "Cir = (math.pi*2*r)\n",
    "print(\"Area of your Circle is {a} {u}\\u00b2 \\nCircumference of your Circle is {c} {u} \".format(a=round(Ar,2),c=round(Cir,2),u=un))"
   ]
  },
  {
   "cell_type": "code",
   "execution_count": null,
   "id": "902dc1c4-32c6-4778-9dcf-48b49dc12b7e",
   "metadata": {},
   "outputs": [],
   "source": []
  }
 ],
 "metadata": {
  "kernelspec": {
   "display_name": "Python 3 (ipykernel)",
   "language": "python",
   "name": "python3"
  },
  "language_info": {
   "codemirror_mode": {
    "name": "ipython",
    "version": 3
   },
   "file_extension": ".py",
   "mimetype": "text/x-python",
   "name": "python",
   "nbconvert_exporter": "python",
   "pygments_lexer": "ipython3",
   "version": "3.10.6"
  }
 },
 "nbformat": 4,
 "nbformat_minor": 5
}
