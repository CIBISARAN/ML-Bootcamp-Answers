{
 "cells": [
  {
   "cell_type": "markdown",
   "id": "d2cc4b80-1952-4894-8d87-8c9cce6ac646",
   "metadata": {},
   "source": [
    "### Hello Welcome to Code Snippet!"
   ]
  },
  {
   "cell_type": "code",
   "execution_count": 18,
   "id": "405c3f79-c3bd-4aa8-b5da-8888fab6b145",
   "metadata": {},
   "outputs": [
    {
     "name": "stdout",
     "output_type": "stream",
     "text": [
      "This Program prints the Following based on input ( For example, If Input is '3' ) :\n",
      "* * *\n",
      "* * *\n",
      "* * *\n"
     ]
    },
    {
     "name": "stdin",
     "output_type": "stream",
     "text": [
      "\n",
      "Enter input :  3\n"
     ]
    },
    {
     "name": "stdout",
     "output_type": "stream",
     "text": [
      "* * * \n",
      "* * * \n",
      "* * * \n"
     ]
    }
   ],
   "source": [
    "print(\"This Program prints the Following based on input ( For example, If Input is '3' ) :\")\n",
    "print('''* * *\n",
    "* * *\n",
    "* * *''')\n",
    "n=int(input(\"\\nEnter input : \"))\n",
    "\n",
    "# i - Row\n",
    "# j - Column\n",
    "\n",
    "for i in range(0,n):\n",
    "    for j in range(0,n):\n",
    "        if j<=i:\n",
    "            print('*',end = \" \")\n",
    "        else:\n",
    "            print('*',end = \" \")\n",
    "    \n",
    "    print()\n"
   ]
  },
  {
   "cell_type": "code",
   "execution_count": 22,
   "id": "4296b3ae-76c5-4887-9651-b573900c54e2",
   "metadata": {},
   "outputs": [
    {
     "name": "stdout",
     "output_type": "stream",
     "text": [
      "This Program prints the Following based on input ( For example, If Input is '3' ) :\n",
      "*\n",
      "* *\n",
      "* * *\n"
     ]
    },
    {
     "name": "stdin",
     "output_type": "stream",
     "text": [
      "Enter input :  3\n"
     ]
    },
    {
     "name": "stdout",
     "output_type": "stream",
     "text": [
      "* \n",
      "* * \n",
      "* * * \n"
     ]
    }
   ],
   "source": [
    "print(\"This Program prints the Following based on input ( For example, If Input is '3' ) :\")\n",
    "print('''*\n",
    "* *\n",
    "* * *''')\n",
    "n=int(input(\"Enter input : \"))\n",
    "\n",
    "# i - Row\n",
    "# j - Column\n",
    "\n",
    "for i in range(0,n):\n",
    "    for j in range(0,i+1):\n",
    "        print('*',end = \" \")\n",
    "    print()"
   ]
  },
  {
   "cell_type": "code",
   "execution_count": 30,
   "id": "9c564262-5fec-4507-954e-b7ae5a9f34ab",
   "metadata": {},
   "outputs": [
    {
     "name": "stdout",
     "output_type": "stream",
     "text": [
      "This Program prints the Following based on input ( For example, If Input is '3' ) :\n",
      "* * *\n",
      "* *\n",
      "*\n"
     ]
    },
    {
     "name": "stdin",
     "output_type": "stream",
     "text": [
      "Enter input :  3\n"
     ]
    },
    {
     "name": "stdout",
     "output_type": "stream",
     "text": [
      "* * * \n",
      "* * \n",
      "* \n",
      "\n"
     ]
    }
   ],
   "source": [
    "print(\"This Program prints the Following based on input ( For example, If Input is '3' ) :\")\n",
    "print('''* * *\n",
    "* *\n",
    "*''')\n",
    "n=int(input(\"Enter input : \"))\n",
    "\n",
    "# i - Row\n",
    "# j - Column\n",
    "\n",
    "for i in range(n+1,0,-1):\n",
    "    for j in range(0,i-1):\n",
    "        print('*',end = \" \")\n",
    "    print()"
   ]
  }
 ],
 "metadata": {
  "kernelspec": {
   "display_name": "Python 3 (ipykernel)",
   "language": "python",
   "name": "python3"
  },
  "language_info": {
   "codemirror_mode": {
    "name": "ipython",
    "version": 3
   },
   "file_extension": ".py",
   "mimetype": "text/x-python",
   "name": "python",
   "nbconvert_exporter": "python",
   "pygments_lexer": "ipython3",
   "version": "3.10.6"
  }
 },
 "nbformat": 4,
 "nbformat_minor": 5
}
