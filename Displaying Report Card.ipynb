{
 "cells": [
  {
   "cell_type": "markdown",
   "id": "20d7127a-e0ea-4e85-adb1-4d183475a8a1",
   "metadata": {},
   "source": [
    "### Hello Welcome to Code Snippet!"
   ]
  },
  {
   "cell_type": "code",
   "execution_count": 6,
   "id": "cd3a7024-3dc5-4bad-85d2-44a0b0210337",
   "metadata": {},
   "outputs": [
    {
     "name": "stdout",
     "output_type": "stream",
     "text": [
      "This Program returns your details in Structed Format\n"
     ]
    },
    {
     "name": "stdin",
     "output_type": "stream",
     "text": [
      "Enter your Roll Number :  212217114028\n",
      "Enter your Grade :  A+\n",
      "Enter your Percentage :  100\n"
     ]
    },
    {
     "name": "stdout",
     "output_type": "stream",
     "text": [
      "\n",
      "Hi There! Here's your Report : \n",
      "Roll Number : 212217114028 \n",
      "Grade : A+ \n",
      "Percentage : 100.0 \n"
     ]
    }
   ],
   "source": [
    "print(\"This Program returns your details in Structed Format\")\n",
    "ro=int(input(\"Enter your Roll Number : \"))\n",
    "gr=input(\"Enter your Grade : \")\n",
    "per=float(input(\"Enter your Percentage : \"))\n",
    "print(\"\\nHi There! Here's your Report : \\nRoll Number : {r} \\nGrade : {g} \\nPercentage : {p} \".format(r=ro,g=gr,p=per))"
   ]
  },
  {
   "cell_type": "code",
   "execution_count": null,
   "id": "4fda5363-05e7-4cb9-b14a-97c8537ebc7e",
   "metadata": {},
   "outputs": [],
   "source": []
  }
 ],
 "metadata": {
  "kernelspec": {
   "display_name": "Python 3 (ipykernel)",
   "language": "python",
   "name": "python3"
  },
  "language_info": {
   "codemirror_mode": {
    "name": "ipython",
    "version": 3
   },
   "file_extension": ".py",
   "mimetype": "text/x-python",
   "name": "python",
   "nbconvert_exporter": "python",
   "pygments_lexer": "ipython3",
   "version": "3.10.6"
  }
 },
 "nbformat": 4,
 "nbformat_minor": 5
}
