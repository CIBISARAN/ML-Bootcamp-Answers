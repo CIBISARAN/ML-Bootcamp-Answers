{
 "cells": [
  {
   "cell_type": "markdown",
   "id": "42ffb855-7330-4688-8515-db35f0d2e9be",
   "metadata": {},
   "source": [
    "### Hello Welcome to Code Snippet!"
   ]
  },
  {
   "cell_type": "code",
   "execution_count": 14,
   "id": "8a228792-40ca-478e-86f2-faff62329ecb",
   "metadata": {},
   "outputs": [
    {
     "name": "stdout",
     "output_type": "stream",
     "text": [
      "This Program ADD'S Two numbers getting  \n"
     ]
    },
    {
     "name": "stdin",
     "output_type": "stream",
     "text": [
      " Enter Two numbers to ADD : \n",
      " 1 5\n"
     ]
    },
    {
     "name": "stdout",
     "output_type": "stream",
     "text": [
      "Sum is : 6\n"
     ]
    }
   ],
   "source": [
    "print(\"This Program ADD'S Two numbers getting  \")\n",
    "x, y =input(\" Enter Two numbers to ADD : \\n\").split()\n",
    "\n",
    "print(\"Sum is : {}\".format(int(x)+int(y)))"
   ]
  }
 ],
 "metadata": {
  "kernelspec": {
   "display_name": "Python 3 (ipykernel)",
   "language": "python",
   "name": "python3"
  },
  "language_info": {
   "codemirror_mode": {
    "name": "ipython",
    "version": 3
   },
   "file_extension": ".py",
   "mimetype": "text/x-python",
   "name": "python",
   "nbconvert_exporter": "python",
   "pygments_lexer": "ipython3",
   "version": "3.10.6"
  }
 },
 "nbformat": 4,
 "nbformat_minor": 5
}
