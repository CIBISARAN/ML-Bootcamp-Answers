{
 "cells": [
  {
   "cell_type": "markdown",
   "id": "02448922-3ac3-4e06-8711-b65e1bca5ddb",
   "metadata": {},
   "source": [
    "### Hello Welcome to Code Snippet!"
   ]
  },
  {
   "cell_type": "code",
   "execution_count": 25,
   "id": "f29eb0c1-b1e4-401d-bfea-a51a38d392a5",
   "metadata": {},
   "outputs": [
    {
     "name": "stdout",
     "output_type": "stream",
     "text": [
      "This Program prints user input in Vertical format without Vowels !\n"
     ]
    },
    {
     "name": "stdin",
     "output_type": "stream",
     "text": [
      "\n",
      "Enter your String!\n",
      " cibisaran\n"
     ]
    },
    {
     "name": "stdout",
     "output_type": "stream",
     "text": [
      "c\n",
      "b\n",
      "s\n",
      "r\n",
      "n\n"
     ]
    }
   ],
   "source": [
    "print(\"This Program prints user input in Vertical format without Vowels !\")\n",
    "ch= input(\"\\nEnter your String!\\n\")\n",
    "\n",
    "for i in range(0,len(ch)):\n",
    "    if ch[i] not in 'aeiouAEIOU':\n",
    "        print(ch[i])\n",
    "    else:\n",
    "        i=i+1"
   ]
  },
  {
   "cell_type": "code",
   "execution_count": null,
   "id": "339371c8-c62e-4d90-bfe3-e7ab8c7a3a4c",
   "metadata": {},
   "outputs": [],
   "source": []
  }
 ],
 "metadata": {
  "kernelspec": {
   "display_name": "Python 3 (ipykernel)",
   "language": "python",
   "name": "python3"
  },
  "language_info": {
   "codemirror_mode": {
    "name": "ipython",
    "version": 3
   },
   "file_extension": ".py",
   "mimetype": "text/x-python",
   "name": "python",
   "nbconvert_exporter": "python",
   "pygments_lexer": "ipython3",
   "version": "3.10.6"
  }
 },
 "nbformat": 4,
 "nbformat_minor": 5
}
