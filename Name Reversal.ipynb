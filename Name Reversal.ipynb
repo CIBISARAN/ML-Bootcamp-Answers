{
 "cells": [
  {
   "cell_type": "markdown",
   "id": "e7d3da5a-fe25-4e9c-ab96-c2b3ab98b406",
   "metadata": {},
   "source": [
    "### Hello Welcome to Code Snippet!"
   ]
  },
  {
   "cell_type": "code",
   "execution_count": 6,
   "id": "3b8cd70a-31b9-41c3-87b9-6477d8c622b4",
   "metadata": {},
   "outputs": [
    {
     "name": "stdout",
     "output_type": "stream",
     "text": [
      "This Program Prints your Name in Reverse Order !\n"
     ]
    },
    {
     "name": "stdin",
     "output_type": "stream",
     "text": [
      "\n",
      "Enter your First Name :  Cibisaran\n",
      "Enter your Last Name :  C B\n"
     ]
    },
    {
     "name": "stdout",
     "output_type": "stream",
     "text": [
      "Reversed Name : B C narasibiC \n"
     ]
    }
   ],
   "source": [
    "print(\"This Program Prints your Name in Reverse Order !\")\n",
    "f=input(\"\\nEnter your First Name : \")\n",
    "l=input(\"Enter your Last Name : \")\n",
    "print(\"Reversed Name : {b} {a} \".format(a=f[::-1],b=l[::-1]))"
   ]
  }
 ],
 "metadata": {
  "kernelspec": {
   "display_name": "Python 3 (ipykernel)",
   "language": "python",
   "name": "python3"
  },
  "language_info": {
   "codemirror_mode": {
    "name": "ipython",
    "version": 3
   },
   "file_extension": ".py",
   "mimetype": "text/x-python",
   "name": "python",
   "nbconvert_exporter": "python",
   "pygments_lexer": "ipython3",
   "version": "3.10.6"
  }
 },
 "nbformat": 4,
 "nbformat_minor": 5
}
