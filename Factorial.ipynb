{
 "cells": [
  {
   "cell_type": "markdown",
   "id": "fc0319fd-ea09-4a67-9dcf-58e79a3d428b",
   "metadata": {},
   "source": [
    "### Hello Welcome to Code Snippet!"
   ]
  },
  {
   "cell_type": "code",
   "execution_count": 1,
   "id": "8cd7708f-9440-4f85-b5e4-fb54d0a66d7a",
   "metadata": {},
   "outputs": [
    {
     "name": "stdout",
     "output_type": "stream",
     "text": [
      "This Program calculates the Factorial\n"
     ]
    },
    {
     "name": "stdin",
     "output_type": "stream",
     "text": [
      "Enter the Number :  6\n"
     ]
    },
    {
     "name": "stdout",
     "output_type": "stream",
     "text": [
      "Factorial of 6 is : 720 \n"
     ]
    }
   ],
   "source": [
    "print(\"This Program calculates the Factorial\")\n",
    "f=int(input(\"Enter the Number : \"))\n",
    "fac=1\n",
    "for i in range(1,f+1):\n",
    "    fac=fac*i\n",
    "    \n",
    "print(\"Factorial of {s} is : {t} \".format(s=f,t=fac))"
   ]
  },
  {
   "cell_type": "code",
   "execution_count": 3,
   "id": "80a22a2a-fbd7-4fda-ad7d-1de6e2b1260b",
   "metadata": {},
   "outputs": [
    {
     "data": {
      "text/plain": [
       "720"
      ]
     },
     "execution_count": 3,
     "metadata": {},
     "output_type": "execute_result"
    }
   ],
   "source": [
    "##Checking ..\n",
    "1*2*3*4*5*6"
   ]
  }
 ],
 "metadata": {
  "kernelspec": {
   "display_name": "Python 3 (ipykernel)",
   "language": "python",
   "name": "python3"
  },
  "language_info": {
   "codemirror_mode": {
    "name": "ipython",
    "version": 3
   },
   "file_extension": ".py",
   "mimetype": "text/x-python",
   "name": "python",
   "nbconvert_exporter": "python",
   "pygments_lexer": "ipython3",
   "version": "3.10.6"
  }
 },
 "nbformat": 4,
 "nbformat_minor": 5
}
