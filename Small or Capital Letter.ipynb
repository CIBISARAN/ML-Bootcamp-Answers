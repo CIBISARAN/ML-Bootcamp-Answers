{
 "cells": [
  {
   "cell_type": "markdown",
   "id": "5b1ebb08-43c3-4cfe-a9fe-6313757e9fd2",
   "metadata": {},
   "source": [
    "### Hello Welcome to Code Snippet!"
   ]
  },
  {
   "cell_type": "code",
   "execution_count": 5,
   "id": "8cfcccb9-32b2-4d98-80ce-cd758f70e983",
   "metadata": {},
   "outputs": [
    {
     "name": "stdout",
     "output_type": "stream",
     "text": [
      "This Program describes input Alphabet is Capital or Small Letter !\n"
     ]
    },
    {
     "name": "stdin",
     "output_type": "stream",
     "text": [
      "\n",
      " Enter Alphabet :  C\n"
     ]
    },
    {
     "name": "stdout",
     "output_type": "stream",
     "text": [
      " The Alphabet is a Capital Letter ! \n"
     ]
    }
   ],
   "source": [
    "print(\"This Program describes input Alphabet is Capital or Small Letter !\")\n",
    "\n",
    "ch=input(\"\\n Enter Alphabet : \")\n",
    "\n",
    "if 'a'<=ch[0]<='z' :\n",
    "    print(\" The Alphabet is a Small Letter ! \")\n",
    "else: \n",
    "    print(\" The Alphabet is a Capital Letter ! \")"
   ]
  }
 ],
 "metadata": {
  "kernelspec": {
   "display_name": "Python 3 (ipykernel)",
   "language": "python",
   "name": "python3"
  },
  "language_info": {
   "codemirror_mode": {
    "name": "ipython",
    "version": 3
   },
   "file_extension": ".py",
   "mimetype": "text/x-python",
   "name": "python",
   "nbconvert_exporter": "python",
   "pygments_lexer": "ipython3",
   "version": "3.10.6"
  }
 },
 "nbformat": 4,
 "nbformat_minor": 5
}
