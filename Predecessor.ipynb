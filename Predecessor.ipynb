{
 "cells": [
  {
   "cell_type": "markdown",
   "id": "197e6b1e-9f49-4ffd-b54f-d3e6d083f471",
   "metadata": {},
   "source": [
    "### Hello Welcome to Code Snippet!"
   ]
  },
  {
   "cell_type": "code",
   "execution_count": 7,
   "id": "f9f7098d-1a23-44e4-bd83-01648e48767b",
   "metadata": {},
   "outputs": [
    {
     "name": "stdin",
     "output_type": "stream",
     "text": [
      "Enter the number to see it's Predecessor :  6\n"
     ]
    },
    {
     "name": "stdout",
     "output_type": "stream",
     "text": [
      "1\n",
      "2\n",
      "3\n",
      "4\n",
      "5\n",
      "6\n"
     ]
    },
    {
     "name": "stdin",
     "output_type": "stream",
     "text": [
      "\n",
      "Enter the number to see it's Predecessor :  10\n"
     ]
    },
    {
     "name": "stdout",
     "output_type": "stream",
     "text": [
      "1\n",
      "2\n",
      "3\n",
      "4\n",
      "5\n",
      "6\n",
      "7\n",
      "8\n",
      "9\n",
      "10\n"
     ]
    },
    {
     "name": "stdin",
     "output_type": "stream",
     "text": [
      "\n",
      "Enter the number to see it's Predecessor :  0\n"
     ]
    },
    {
     "name": "stdout",
     "output_type": "stream",
     "text": [
      "\n",
      "Thank You, Visit Again!\n"
     ]
    }
   ],
   "source": [
    "x=int(input(\"Enter the number to see it's Predecessor : \"))\n",
    "\n",
    "while x!=0:\n",
    "    for i in range(1,x+1):\n",
    "        print(i)\n",
    "    x=int(input(\"\\nEnter the number to see it's Predecessor : \"))    \n",
    "\n",
    "print(\"\\nThank You, Visit Again!\")"
   ]
  }
 ],
 "metadata": {
  "kernelspec": {
   "display_name": "Python 3 (ipykernel)",
   "language": "python",
   "name": "python3"
  },
  "language_info": {
   "codemirror_mode": {
    "name": "ipython",
    "version": 3
   },
   "file_extension": ".py",
   "mimetype": "text/x-python",
   "name": "python",
   "nbconvert_exporter": "python",
   "pygments_lexer": "ipython3",
   "version": "3.10.6"
  }
 },
 "nbformat": 4,
 "nbformat_minor": 5
}
