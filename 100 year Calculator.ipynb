{
 "cells": [
  {
   "cell_type": "markdown",
   "id": "54eeaab7-5f09-413a-ba59-08973dabf72c",
   "metadata": {},
   "source": [
    "### Hello Welcome to Code Snippet!"
   ]
  },
  {
   "cell_type": "code",
   "execution_count": 4,
   "id": "61caee9d-8aab-45f1-a029-8ce7ba3052d6",
   "metadata": {},
   "outputs": [
    {
     "name": "stdout",
     "output_type": "stream",
     "text": [
      "This Program returns the year you'll turn 100!\n",
      "\n",
      "Your Good name please \n"
     ]
    },
    {
     "name": "stdin",
     "output_type": "stream",
     "text": [
      " Cibi\n"
     ]
    },
    {
     "name": "stdout",
     "output_type": "stream",
     "text": [
      "Hi Cibi... Hope your doing Good!\n"
     ]
    },
    {
     "name": "stdin",
     "output_type": "stream",
     "text": [
      "Enter your Age :  23\n"
     ]
    },
    {
     "name": "stdout",
     "output_type": "stream",
     "text": [
      "You will turn 100 at year 2099 \n"
     ]
    }
   ],
   "source": [
    "print(\"This Program returns the year you'll turn 100!\")\n",
    "print(\"\\nYour Good name please \")\n",
    "ch=input()\n",
    "print(\"Hi {n}... Hope your doing Good!\".format(n=ch))\n",
    "a=int(input(\"Enter your Age : \"))\n",
    "y=2022+100-a\n",
    "print(\"You will turn 100 at year {} \".format(y))"
   ]
  },
  {
   "cell_type": "code",
   "execution_count": null,
   "id": "cf6c58d3-fd1a-4df5-b31b-c2a5a8fbd2b2",
   "metadata": {},
   "outputs": [],
   "source": []
  },
  {
   "cell_type": "code",
   "execution_count": null,
   "id": "1332d32f-0703-4927-98f2-08481a1ead3d",
   "metadata": {},
   "outputs": [],
   "source": []
  }
 ],
 "metadata": {
  "kernelspec": {
   "display_name": "Python 3 (ipykernel)",
   "language": "python",
   "name": "python3"
  },
  "language_info": {
   "codemirror_mode": {
    "name": "ipython",
    "version": 3
   },
   "file_extension": ".py",
   "mimetype": "text/x-python",
   "name": "python",
   "nbconvert_exporter": "python",
   "pygments_lexer": "ipython3",
   "version": "3.10.6"
  }
 },
 "nbformat": 4,
 "nbformat_minor": 5
}
