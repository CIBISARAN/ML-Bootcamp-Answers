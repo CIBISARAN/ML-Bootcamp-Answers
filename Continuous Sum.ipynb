{
 "cells": [
  {
   "cell_type": "markdown",
   "id": "ec8d136c-79c4-4532-a945-8ef77d5a8af8",
   "metadata": {},
   "source": [
    "### Hello Welcome to Code Snippet!"
   ]
  },
  {
   "cell_type": "code",
   "execution_count": 10,
   "id": "20cc1a8b-69e6-49a0-ab17-eeb9b776589c",
   "metadata": {},
   "outputs": [
    {
     "name": "stdout",
     "output_type": "stream",
     "text": [
      "This Program calculates sum of input, enter '0' to evaluate and result\n"
     ]
    },
    {
     "name": "stdin",
     "output_type": "stream",
     "text": [
      "Enter a Number to sum :  11\n",
      "Enter Next Number :  4\n",
      "Enter Next Number :  0\n"
     ]
    },
    {
     "name": "stdout",
     "output_type": "stream",
     "text": [
      "Sum of Numbers : 15 \n"
     ]
    }
   ],
   "source": [
    "print(\"This Program calculates sum of input, enter '0' to evaluate and result\")\n",
    "s=int(input(\"Enter a Number to sum : \"))\n",
    "sum=0\n",
    "\n",
    "while s!=0:\n",
    "    sum=sum+s\n",
    "    s=int(input(\"Enter Next Number : \"))\n",
    "    \n",
    "print(\"Sum of Numbers : {h} \".format(h=sum))"
   ]
  },
  {
   "cell_type": "code",
   "execution_count": 11,
   "id": "8b2acbb4-cedb-4e61-9245-599afe735c68",
   "metadata": {},
   "outputs": [
    {
     "name": "stdout",
     "output_type": "stream",
     "text": [
      "This Program calculates sum of input, enter '0' to evaluate and result\n"
     ]
    },
    {
     "name": "stdin",
     "output_type": "stream",
     "text": [
      "Enter a Number to sum :  9\n",
      "Enter Next Number :  -1\n",
      "Enter Next Number :  0\n"
     ]
    },
    {
     "name": "stdout",
     "output_type": "stream",
     "text": [
      "Sum of Numbers : 10 \n"
     ]
    }
   ],
   "source": [
    "print(\"This Program calculates sum of input, enter '0' to evaluate and result\")\n",
    "s=int(input(\"Enter a Number to sum : \"))\n",
    "sum=0\n",
    "\n",
    "while s!=0:\n",
    "    if s<0: \n",
    "        s=-1*s\n",
    "        sum=sum+s\n",
    "        s=int(input(\"Enter Next Number : \"))\n",
    "    else:\n",
    "        sum=sum+s\n",
    "        s=int(input(\"Enter Next Number : \"))\n",
    "    \n",
    "print(\"Sum of Numbers : {h} \".format(h=sum))"
   ]
  }
 ],
 "metadata": {
  "kernelspec": {
   "display_name": "Python 3 (ipykernel)",
   "language": "python",
   "name": "python3"
  },
  "language_info": {
   "codemirror_mode": {
    "name": "ipython",
    "version": 3
   },
   "file_extension": ".py",
   "mimetype": "text/x-python",
   "name": "python",
   "nbconvert_exporter": "python",
   "pygments_lexer": "ipython3",
   "version": "3.10.6"
  }
 },
 "nbformat": 4,
 "nbformat_minor": 5
}
