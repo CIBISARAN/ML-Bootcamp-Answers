{
 "cells": [
  {
   "cell_type": "markdown",
   "id": "aacc8b20-6d0b-4817-a115-5290e2db30fa",
   "metadata": {},
   "source": [
    "### Hello Welcome to Code Snippet!"
   ]
  },
  {
   "cell_type": "code",
   "execution_count": 6,
   "id": "46ae0348-e2c2-45cd-bf6f-457e4bafcc65",
   "metadata": {},
   "outputs": [
    {
     "name": "stdout",
     "output_type": "stream",
     "text": [
      "This Program Calculates Sum till the Number entered by User !\n"
     ]
    },
    {
     "name": "stdin",
     "output_type": "stream",
     "text": [
      "Enter the number :  6\n"
     ]
    },
    {
     "name": "stdout",
     "output_type": "stream",
     "text": [
      "Sum of Numbers till 6 : 21\n"
     ]
    }
   ],
   "source": [
    "print(\"This Program Calculates Sum till the Number entered by User !\")\n",
    "e=int(input(\"Enter the number : \"))\n",
    "sum=0\n",
    "\n",
    "for i in range(1,e+1):\n",
    "    sum= sum + i\n",
    "    \n",
    "print(\"Sum of Numbers till {j} : {s}\".format(s=sum,j=e))\n",
    "      "
   ]
  },
  {
   "cell_type": "code",
   "execution_count": 4,
   "id": "025f2087-4df4-45ff-b17d-3c21bf3b4d01",
   "metadata": {},
   "outputs": [
    {
     "data": {
      "text/plain": [
       "21"
      ]
     },
     "execution_count": 4,
     "metadata": {},
     "output_type": "execute_result"
    }
   ],
   "source": [
    "##Checking ..\n",
    "1+2+3+4+5+6"
   ]
  }
 ],
 "metadata": {
  "kernelspec": {
   "display_name": "Python 3 (ipykernel)",
   "language": "python",
   "name": "python3"
  },
  "language_info": {
   "codemirror_mode": {
    "name": "ipython",
    "version": 3
   },
   "file_extension": ".py",
   "mimetype": "text/x-python",
   "name": "python",
   "nbconvert_exporter": "python",
   "pygments_lexer": "ipython3",
   "version": "3.10.6"
  }
 },
 "nbformat": 4,
 "nbformat_minor": 5
}
