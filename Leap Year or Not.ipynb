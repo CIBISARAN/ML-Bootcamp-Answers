{
 "cells": [
  {
   "cell_type": "markdown",
   "id": "5a1b06ee-7c09-451f-868d-70f943c21a14",
   "metadata": {},
   "source": [
    "### Hello Welcome to Code Snippet!"
   ]
  },
  {
   "cell_type": "code",
   "execution_count": 19,
   "id": "31dd3b91-dfa7-4612-ac51-7523ea735837",
   "metadata": {},
   "outputs": [
    {
     "name": "stdout",
     "output_type": "stream",
     "text": [
      "This Program describes the Year is Leap or Not!\n"
     ]
    },
    {
     "name": "stdin",
     "output_type": "stream",
     "text": [
      "Enter a year :\n",
      " 2012\n"
     ]
    },
    {
     "name": "stdout",
     "output_type": "stream",
     "text": [
      " The Year 2012 is Leap!\n"
     ]
    }
   ],
   "source": [
    "print(\"This Program describes the Year is Leap or Not!\")\n",
    "y=int(input(\"Enter a year :\\n\"))\n",
    "\n",
    "if (y%4==0 and y%100!=0) or y%400==0 :\n",
    "    print(\" The Year {} is Leap!\".format(y))\n",
    "else: \n",
    "    print(\" The Year {} is Not Leap!\".format(y))"
   ]
  }
 ],
 "metadata": {
  "kernelspec": {
   "display_name": "Python 3 (ipykernel)",
   "language": "python",
   "name": "python3"
  },
  "language_info": {
   "codemirror_mode": {
    "name": "ipython",
    "version": 3
   },
   "file_extension": ".py",
   "mimetype": "text/x-python",
   "name": "python",
   "nbconvert_exporter": "python",
   "pygments_lexer": "ipython3",
   "version": "3.10.6"
  }
 },
 "nbformat": 4,
 "nbformat_minor": 5
}
