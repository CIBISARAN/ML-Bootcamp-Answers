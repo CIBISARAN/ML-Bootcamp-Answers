{
 "cells": [
  {
   "cell_type": "markdown",
   "id": "2392d777-659d-4c86-bd84-7352ecbdf4e7",
   "metadata": {},
   "source": [
    "### Hello Welcome to Code Snippet!"
   ]
  },
  {
   "cell_type": "code",
   "execution_count": 1,
   "id": "670fb746-37fe-48a5-a329-d2897129899b",
   "metadata": {},
   "outputs": [
    {
     "name": "stdout",
     "output_type": "stream",
     "text": [
      "This Program describes the Input is Even or Odd \n"
     ]
    },
    {
     "name": "stdin",
     "output_type": "stream",
     "text": [
      "\n",
      "Enter a Number :  524695629\n"
     ]
    },
    {
     "name": "stdout",
     "output_type": "stream",
     "text": [
      "The 524695629 is Odd\n"
     ]
    }
   ],
   "source": [
    "print(\"This Program describes the Input is Even or Odd \")\n",
    "ans=int(input(\"\\n Enter a Number : \"))\n",
    "\n",
    "if (ans%2==0):\n",
    "    print(\"The Number {} is Even\".format(ans))\n",
    "else:\n",
    "    print(\"The {} is Odd\".format(ans))"
   ]
  }
 ],
 "metadata": {
  "kernelspec": {
   "display_name": "Python 3 (ipykernel)",
   "language": "python",
   "name": "python3"
  },
  "language_info": {
   "codemirror_mode": {
    "name": "ipython",
    "version": 3
   },
   "file_extension": ".py",
   "mimetype": "text/x-python",
   "name": "python",
   "nbconvert_exporter": "python",
   "pygments_lexer": "ipython3",
   "version": "3.10.6"
  }
 },
 "nbformat": 4,
 "nbformat_minor": 5
}
