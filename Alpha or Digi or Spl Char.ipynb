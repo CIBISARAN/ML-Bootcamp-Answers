{
 "cells": [
  {
   "cell_type": "markdown",
   "id": "062b3cf1-5450-4e24-8eea-d02057fef688",
   "metadata": {},
   "source": [
    "### Hello Welcome to Code Snippet!"
   ]
  },
  {
   "cell_type": "code",
   "execution_count": 10,
   "id": "2e7af4b2-ed08-47f1-9ea5-ede894e00e7c",
   "metadata": {},
   "outputs": [
    {
     "name": "stdout",
     "output_type": "stream",
     "text": [
      "This Program describes your input as Alphabet / Digit / Special Character \n"
     ]
    },
    {
     "name": "stdin",
     "output_type": "stream",
     "text": [
      "\n",
      " Enter Input :  g\n"
     ]
    },
    {
     "name": "stdout",
     "output_type": "stream",
     "text": [
      " \n",
      "The Input 'g' you've entered is an Alphabet and .. \n",
      "It's a Small Letter ! \n"
     ]
    }
   ],
   "source": [
    "print(\"This Program describes your input as Alphabet / Digit / Special Character \")\n",
    "\n",
    "ch=input(\"\\n Enter Input : \")\n",
    "\n",
    "if 'a'<=ch[0]<='z' :\n",
    "    print(\" \\nThe Input '{}' you've entered is an Alphabet and .. \\nIt's a Small Letter ! \".format(ch))\n",
    "elif 'A'<=ch[0]<='Z': \n",
    "    print(\" \\nThe Input '{}' you've entered is an Alphabet and .. \\nIt's a Capital Letter ! \".format(ch))\n",
    "elif '0'<=ch[0]<='9' :\n",
    "    print(\" \\nThe Input '{}' you've entered is a Digit ! \".format(ch))\n",
    "else : \n",
    "    print(\" \\nThe Input '{}' you've entered is a Special Character ! \".format(ch))"
   ]
  },
  {
   "cell_type": "code",
   "execution_count": null,
   "id": "63f284bd-50fa-4879-bbf4-9ca751c3ff24",
   "metadata": {},
   "outputs": [],
   "source": []
  }
 ],
 "metadata": {
  "kernelspec": {
   "display_name": "Python 3 (ipykernel)",
   "language": "python",
   "name": "python3"
  },
  "language_info": {
   "codemirror_mode": {
    "name": "ipython",
    "version": 3
   },
   "file_extension": ".py",
   "mimetype": "text/x-python",
   "name": "python",
   "nbconvert_exporter": "python",
   "pygments_lexer": "ipython3",
   "version": "3.10.6"
  }
 },
 "nbformat": 4,
 "nbformat_minor": 5
}
