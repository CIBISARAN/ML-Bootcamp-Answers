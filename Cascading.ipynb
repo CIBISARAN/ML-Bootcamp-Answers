{
 "cells": [
  {
   "cell_type": "markdown",
   "id": "7b470c9b-940d-48ac-9ae4-d58e7d5e5aed",
   "metadata": {},
   "source": [
    "### Hello Welcome to Code Snippet!"
   ]
  },
  {
   "cell_type": "code",
   "execution_count": 19,
   "id": "c3d0c731-f61a-448a-ab7e-afa92b001eef",
   "metadata": {},
   "outputs": [
    {
     "name": "stdout",
     "output_type": "stream",
     "text": [
      "This Program performs Cascading Operation for Input Variables !\n"
     ]
    },
    {
     "name": "stdin",
     "output_type": "stream",
     "text": [
      " Enter three Variables :  20 10 20\n"
     ]
    },
    {
     "name": "stdout",
     "output_type": "stream",
     "text": [
      "The Number '20' is Greatest of All !\n"
     ]
    }
   ],
   "source": [
    "print(\"This Program performs Cascading Operation for Input Variables !\")\n",
    "x,y,z=input(\" Enter three Variables : \").split()\n",
    "\n",
    "if x>=y:\n",
    "    if x>=z:\n",
    "        print(\"The Number '{o}' is Greatest of All !\".format(o=x))\n",
    "    else :\n",
    "        print(\"The Number '{t}' is Greatest of All !\".format(t=z)) \n",
    "elif y>=x:\n",
    "    if y>=z:\n",
    "        print(\"The Number '{th}' is Greatest of All !\".format(th=y))\n",
    "    else : \n",
    "        print(\"The Number '{f}' is Greatest of All !\".format(f=z))\n",
    "else: \n",
    "    print(\"The Number '{fi}' is Greatest of All !\".format(fi=z))\n"
   ]
  }
 ],
 "metadata": {
  "kernelspec": {
   "display_name": "Python 3 (ipykernel)",
   "language": "python",
   "name": "python3"
  },
  "language_info": {
   "codemirror_mode": {
    "name": "ipython",
    "version": 3
   },
   "file_extension": ".py",
   "mimetype": "text/x-python",
   "name": "python",
   "nbconvert_exporter": "python",
   "pygments_lexer": "ipython3",
   "version": "3.10.6"
  }
 },
 "nbformat": 4,
 "nbformat_minor": 5
}
