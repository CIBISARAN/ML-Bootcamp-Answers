{
 "cells": [
  {
   "cell_type": "markdown",
   "id": "cd54b878-fafc-4478-92bc-762d9acedd31",
   "metadata": {
    "tags": []
   },
   "source": [
    "#### Hllo Welcome to Code Snippet!\n",
    "\n",
    "    Task : Guess the Number Correctly!\n",
    "\n",
    "    Following are the steps needed:\n",
    "     - At first , the program will generate a random integer secretly.\n",
    "     - Now it will ask the user to guess that number.\n",
    "     - If the user guessed it correctly then the program prints “Congratulations! You guessed it right”.\n",
    "     - If the number guessed by the user is larger than the secret number then program will print “Number too large”\n",
    "     - If the number guessed by the user is smaller than the secret number then the program will print “Number too small”\n",
    "     - The task continues until the user guesses the number correctly or quits.\n",
    "     - If the user wants to quit in between he/she will have to type 0 or negative number.     "
   ]
  },
  {
   "cell_type": "code",
   "execution_count": 32,
   "id": "eb9d2496-ff10-4790-9f32-66d0da52a40f",
   "metadata": {},
   "outputs": [
    {
     "name": "stdout",
     "output_type": "stream",
     "text": [
      "The Guessing Game !\n",
      "\n",
      "I will think of a Number , You need to Guess it.. \n",
      "Now It's your turn to guess it\n"
     ]
    },
    {
     "name": "stdin",
     "output_type": "stream",
     "text": [
      "Enter a number from 1 - 100\n",
      " 60\n"
     ]
    },
    {
     "name": "stdout",
     "output_type": "stream",
     "text": [
      "Number too Small\n"
     ]
    },
    {
     "name": "stdin",
     "output_type": "stream",
     "text": [
      "\n",
      "Enter a number from 1 - 100\n",
      " 70\n"
     ]
    },
    {
     "name": "stdout",
     "output_type": "stream",
     "text": [
      "Number too large\n"
     ]
    },
    {
     "name": "stdin",
     "output_type": "stream",
     "text": [
      "\n",
      "Enter a number from 1 - 100\n",
      " 67\n"
     ]
    },
    {
     "name": "stdout",
     "output_type": "stream",
     "text": [
      "Number too large\n"
     ]
    },
    {
     "name": "stdin",
     "output_type": "stream",
     "text": [
      "\n",
      "Enter a number from 1 - 100\n",
      " 65\n"
     ]
    },
    {
     "name": "stdout",
     "output_type": "stream",
     "text": [
      "Congratulations! You guessed it right\n"
     ]
    }
   ],
   "source": [
    "import random\n",
    "\n",
    "print(\"The Guessing Game !\")\n",
    "print(\"\\nI will think of a Number , You need to Guess it.. \")\n",
    "print(\"Now It's your turn to guess it\")     #\\nOk Done, I have a number in my mind!\n",
    "\n",
    "y=random.randint(0,100)\n",
    "a=int(input(\"Enter a number from 1 - 100\\n\")) \n",
    "b=a\n",
    "\n",
    "while y!=a:\n",
    "    \n",
    "    if a>y:\n",
    "        print(\"Number too large\")\n",
    "        a=int(input(\"\\nEnter a number from 1 - 100\\n\")) \n",
    "        if a==0:\n",
    "            print(\" Program Exit!\")\n",
    "            break\n",
    "    elif a<y:\n",
    "        print(\"Number too Small\")\n",
    "        a=int(input(\"\\nEnter a number from 1 - 100\\n\"))\n",
    "        if a==0:\n",
    "            print(\" Program Exit!\")\n",
    "            break\n",
    "        \n",
    "if y==a:\n",
    "    print(\"Congratulations! You guessed it right\") "
   ]
  }
 ],
 "metadata": {
  "kernelspec": {
   "display_name": "Python 3 (ipykernel)",
   "language": "python",
   "name": "python3"
  },
  "language_info": {
   "codemirror_mode": {
    "name": "ipython",
    "version": 3
   },
   "file_extension": ".py",
   "mimetype": "text/x-python",
   "name": "python",
   "nbconvert_exporter": "python",
   "pygments_lexer": "ipython3",
   "version": "3.10.6"
  }
 },
 "nbformat": 4,
 "nbformat_minor": 5
}
